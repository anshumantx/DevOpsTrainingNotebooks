{
 "cells": [
  {
   "cell_type": "code",
   "execution_count": 1,
   "id": "african-footage",
   "metadata": {},
   "outputs": [],
   "source": [
    "#Python Day 1\n",
    "# OOPS - Object Oriented Programming\n",
    "# created by Guido Van Rossum\n",
    "# there are 2 versions python2.7 defunct and 3+ versions. Current 3.9.something"
   ]
  },
  {
   "cell_type": "code",
   "execution_count": 2,
   "id": "mexican-smoke",
   "metadata": {},
   "outputs": [
    {
     "name": "stdout",
     "output_type": "stream",
     "text": [
      "hello world\n"
     ]
    }
   ],
   "source": [
    "print(\"hello world\")"
   ]
  },
  {
   "cell_type": "code",
   "execution_count": 37,
   "id": "focal-mason",
   "metadata": {},
   "outputs": [],
   "source": [
    "# indentation and Whitespaces\n",
    "# 4 spaces - use TAB, ALWAYS\n",
    "# pycodestyle - Python pep8 coding style\n",
    "\"\"\"eofboe\"\"\"\n",
    "\n",
    "\n",
    "def some_func(num1, num2):\n",
    "    \n",
    "    # how to add comments/Documentation for your fucntion or a class\n",
    "    \"\"\"hi this a multipleline commment \n",
    "    and this gets continued\"\"\"\n",
    "\n",
    "    sum_num = num1 + num2     \n",
    "    return sum_num\n"
   ]
  },
  {
   "cell_type": "code",
   "execution_count": 38,
   "id": "passive-march",
   "metadata": {},
   "outputs": [
    {
     "data": {
      "text/plain": [
       "7"
      ]
     },
     "execution_count": 38,
     "metadata": {},
     "output_type": "execute_result"
    }
   ],
   "source": [
    "some_func(3, 4)"
   ]
  },
  {
   "cell_type": "code",
   "execution_count": 43,
   "id": "fewer-palmer",
   "metadata": {},
   "outputs": [
    {
     "data": {
      "text/plain": [
       "'hi\\nwdewd\\nwede\\nwededeef'"
      ]
     },
     "execution_count": 43,
     "metadata": {},
     "output_type": "execute_result"
    }
   ],
   "source": [
    "\"\"\"hi\n",
    "wdewd\n",
    "wede\n",
    "wededeef\"\"\""
   ]
  },
  {
   "cell_type": "code",
   "execution_count": 41,
   "id": "raised-kansas",
   "metadata": {},
   "outputs": [
    {
     "data": {
      "text/plain": [
       "['__abs__',\n",
       " '__add__',\n",
       " '__and__',\n",
       " '__bool__',\n",
       " '__ceil__',\n",
       " '__class__',\n",
       " '__delattr__',\n",
       " '__dir__',\n",
       " '__divmod__',\n",
       " '__doc__',\n",
       " '__eq__',\n",
       " '__float__',\n",
       " '__floor__',\n",
       " '__floordiv__',\n",
       " '__format__',\n",
       " '__ge__',\n",
       " '__getattribute__',\n",
       " '__getnewargs__',\n",
       " '__gt__',\n",
       " '__hash__',\n",
       " '__index__',\n",
       " '__init__',\n",
       " '__init_subclass__',\n",
       " '__int__',\n",
       " '__invert__',\n",
       " '__le__',\n",
       " '__lshift__',\n",
       " '__lt__',\n",
       " '__mod__',\n",
       " '__mul__',\n",
       " '__ne__',\n",
       " '__neg__',\n",
       " '__new__',\n",
       " '__or__',\n",
       " '__pos__',\n",
       " '__pow__',\n",
       " '__radd__',\n",
       " '__rand__',\n",
       " '__rdivmod__',\n",
       " '__reduce__',\n",
       " '__reduce_ex__',\n",
       " '__repr__',\n",
       " '__rfloordiv__',\n",
       " '__rlshift__',\n",
       " '__rmod__',\n",
       " '__rmul__',\n",
       " '__ror__',\n",
       " '__round__',\n",
       " '__rpow__',\n",
       " '__rrshift__',\n",
       " '__rshift__',\n",
       " '__rsub__',\n",
       " '__rtruediv__',\n",
       " '__rxor__',\n",
       " '__setattr__',\n",
       " '__sizeof__',\n",
       " '__str__',\n",
       " '__sub__',\n",
       " '__subclasshook__',\n",
       " '__truediv__',\n",
       " '__trunc__',\n",
       " '__xor__',\n",
       " 'as_integer_ratio',\n",
       " 'bit_length',\n",
       " 'conjugate',\n",
       " 'denominator',\n",
       " 'from_bytes',\n",
       " 'imag',\n",
       " 'numerator',\n",
       " 'real',\n",
       " 'to_bytes']"
      ]
     },
     "execution_count": 41,
     "metadata": {},
     "output_type": "execute_result"
    }
   ],
   "source": [
    "dir(some_func(4, 6))"
   ]
  },
  {
   "cell_type": "code",
   "execution_count": 44,
   "id": "psychological-robinson",
   "metadata": {},
   "outputs": [
    {
     "data": {
      "text/plain": [
       "'hi this a multipleline commment \\n    and this gets continued'"
      ]
     },
     "execution_count": 44,
     "metadata": {},
     "output_type": "execute_result"
    }
   ],
   "source": [
    "some_func.__doc__"
   ]
  },
  {
   "cell_type": "code",
   "execution_count": 48,
   "id": "distant-keeping",
   "metadata": {},
   "outputs": [],
   "source": [
    "# varibles\n",
    "\n",
    "# it doesnt starts with Number, symbols\n",
    "# variables can start with Alphabets, Underscores\n",
    "\n",
    "\n",
    "_x = 5"
   ]
  },
  {
   "cell_type": "code",
   "execution_count": 49,
   "id": "naval-blade",
   "metadata": {},
   "outputs": [
    {
     "data": {
      "text/plain": [
       "5"
      ]
     },
     "execution_count": 49,
     "metadata": {},
     "output_type": "execute_result"
    }
   ],
   "source": [
    "x"
   ]
  },
  {
   "cell_type": "code",
   "execution_count": 67,
   "id": "canadian-russian",
   "metadata": {},
   "outputs": [],
   "source": [
    "a, b = 12, 88"
   ]
  },
  {
   "cell_type": "code",
   "execution_count": 69,
   "id": "perfect-feelings",
   "metadata": {},
   "outputs": [],
   "source": [
    "a, b = b, a # varible swapping"
   ]
  },
  {
   "cell_type": "code",
   "execution_count": 70,
   "id": "quick-volunteer",
   "metadata": {},
   "outputs": [
    {
     "data": {
      "text/plain": [
       "(88, 12)"
      ]
     },
     "execution_count": 70,
     "metadata": {},
     "output_type": "execute_result"
    }
   ],
   "source": [
    "a, b "
   ]
  },
  {
   "cell_type": "code",
   "execution_count": 60,
   "id": "intermediate-italian",
   "metadata": {},
   "outputs": [
    {
     "data": {
      "text/plain": [
       "33"
      ]
     },
     "execution_count": 60,
     "metadata": {},
     "output_type": "execute_result"
    }
   ],
   "source": []
  },
  {
   "cell_type": "code",
   "execution_count": 71,
   "id": "turkish-smith",
   "metadata": {},
   "outputs": [],
   "source": [
    "x = 56.78"
   ]
  },
  {
   "cell_type": "code",
   "execution_count": 72,
   "id": "representative-district",
   "metadata": {},
   "outputs": [
    {
     "data": {
      "text/plain": [
       "float"
      ]
     },
     "execution_count": 72,
     "metadata": {},
     "output_type": "execute_result"
    }
   ],
   "source": [
    "type(x)"
   ]
  },
  {
   "cell_type": "code",
   "execution_count": 75,
   "id": "representative-messaging",
   "metadata": {},
   "outputs": [],
   "source": [
    "x = str(x)"
   ]
  },
  {
   "cell_type": "code",
   "execution_count": 76,
   "id": "welsh-milton",
   "metadata": {},
   "outputs": [
    {
     "data": {
      "text/plain": [
       "'56.78'"
      ]
     },
     "execution_count": 76,
     "metadata": {},
     "output_type": "execute_result"
    }
   ],
   "source": [
    "x"
   ]
  },
  {
   "cell_type": "code",
   "execution_count": 77,
   "id": "improved-manitoba",
   "metadata": {},
   "outputs": [],
   "source": [
    "x = \"ABC\"\n",
    "y = \"abc\""
   ]
  },
  {
   "cell_type": "code",
   "execution_count": 78,
   "id": "weighted-tongue",
   "metadata": {},
   "outputs": [
    {
     "name": "stdout",
     "output_type": "stream",
     "text": [
      "NO\n"
     ]
    }
   ],
   "source": [
    "if x == y:\n",
    "    print(\"yes\")\n",
    "else:\n",
    "    print(\"NO\")"
   ]
  },
  {
   "cell_type": "code",
   "execution_count": 80,
   "id": "fossil-president",
   "metadata": {},
   "outputs": [],
   "source": [
    "# CamelCase - This is followed in Classes\n",
    "# snake_case - \n",
    "\n",
    "# class DistributionError():\n",
    "#     return None\n",
    "\n",
    "# class distribution_error():\n",
    "#     return None\n"
   ]
  },
  {
   "cell_type": "code",
   "execution_count": 81,
   "id": "introductory-validation",
   "metadata": {},
   "outputs": [
    {
     "name": "stdout",
     "output_type": "stream",
     "text": [
      " 3809190 this is the sum of 343545, 3465645 \n"
     ]
    }
   ],
   "source": [
    "print(\" {} this is the sum of 343545, 3465645 \".format(some_func(343545, 3465645)))"
   ]
  },
  {
   "cell_type": "code",
   "execution_count": 82,
   "id": "improved-glossary",
   "metadata": {},
   "outputs": [],
   "source": [
    "# random module\n",
    "import random"
   ]
  },
  {
   "cell_type": "code",
   "execution_count": 84,
   "id": "virtual-rating",
   "metadata": {},
   "outputs": [
    {
     "data": {
      "text/plain": [
       "['__call__',\n",
       " '__class__',\n",
       " '__delattr__',\n",
       " '__dir__',\n",
       " '__doc__',\n",
       " '__eq__',\n",
       " '__format__',\n",
       " '__ge__',\n",
       " '__getattribute__',\n",
       " '__gt__',\n",
       " '__hash__',\n",
       " '__init__',\n",
       " '__init_subclass__',\n",
       " '__le__',\n",
       " '__lt__',\n",
       " '__module__',\n",
       " '__name__',\n",
       " '__ne__',\n",
       " '__new__',\n",
       " '__qualname__',\n",
       " '__reduce__',\n",
       " '__reduce_ex__',\n",
       " '__repr__',\n",
       " '__self__',\n",
       " '__setattr__',\n",
       " '__sizeof__',\n",
       " '__str__',\n",
       " '__subclasshook__',\n",
       " '__text_signature__']"
      ]
     },
     "execution_count": 84,
     "metadata": {},
     "output_type": "execute_result"
    }
   ],
   "source": [
    "dir(random.random)"
   ]
  },
  {
   "cell_type": "code",
   "execution_count": 85,
   "id": "built-melbourne",
   "metadata": {},
   "outputs": [
    {
     "data": {
      "text/plain": [
       "31"
      ]
     },
     "execution_count": 85,
     "metadata": {},
     "output_type": "execute_result"
    }
   ],
   "source": [
    "a = \"Python is a OOPS based language\"\n",
    "len(a)"
   ]
  },
  {
   "cell_type": "code",
   "execution_count": 88,
   "id": "naughty-digest",
   "metadata": {},
   "outputs": [],
   "source": [
    "if \"OOPS\" not in a:\n",
    "    print(\"ha bhai hai\")"
   ]
  },
  {
   "cell_type": "code",
   "execution_count": 96,
   "id": "headed-institution",
   "metadata": {},
   "outputs": [
    {
     "data": {
      "text/plain": [
       "7"
      ]
     },
     "execution_count": 96,
     "metadata": {},
     "output_type": "execute_result"
    }
   ],
   "source": [
    "#LIST\n",
    "# sequence data type\n",
    "# []\n",
    "# ordered\n",
    "# indesxing in python starts with 0\n",
    "# mutable : elements can be changed\n",
    "\n",
    "my_list = ['pragati', 'gurjeet', 'anshuman', 'srinivas', 'srinivas', \"sandeep\", \"hitendra\"]\n",
    "len(my_list)"
   ]
  },
  {
   "cell_type": "code",
   "execution_count": 90,
   "id": "taken-housing",
   "metadata": {},
   "outputs": [
    {
     "data": {
      "text/plain": [
       "['pragati',\n",
       " 'gurjeet',\n",
       " 'anshuman',\n",
       " 'srinivas',\n",
       " 'srinivas',\n",
       " 'sandeep',\n",
       " 'hitendra']"
      ]
     },
     "execution_count": 90,
     "metadata": {},
     "output_type": "execute_result"
    }
   ],
   "source": [
    "my_list"
   ]
  },
  {
   "cell_type": "code",
   "execution_count": 94,
   "id": "mysterious-madness",
   "metadata": {},
   "outputs": [],
   "source": [
    "my_list[5] = \"srinivas_nunakana\""
   ]
  },
  {
   "cell_type": "code",
   "execution_count": 95,
   "id": "downtown-payment",
   "metadata": {},
   "outputs": [
    {
     "data": {
      "text/plain": [
       "['pragati',\n",
       " 'gurjeet',\n",
       " 'anshuman',\n",
       " 'srinivas',\n",
       " 'srinivas',\n",
       " 'srinivas_nunakana',\n",
       " 'hitendra']"
      ]
     },
     "execution_count": 95,
     "metadata": {},
     "output_type": "execute_result"
    }
   ],
   "source": [
    "my_list"
   ]
  },
  {
   "cell_type": "code",
   "execution_count": 99,
   "id": "advanced-airfare",
   "metadata": {},
   "outputs": [
    {
     "data": {
      "text/plain": [
       "['hitendra',\n",
       " 'sandeep',\n",
       " 'srinivas',\n",
       " 'srinivas',\n",
       " 'anshuman',\n",
       " 'gurjeet',\n",
       " 'pragati']"
      ]
     },
     "execution_count": 99,
     "metadata": {},
     "output_type": "execute_result"
    }
   ],
   "source": [
    "my_list[::-1]   #to reverse a list"
   ]
  },
  {
   "cell_type": "code",
   "execution_count": 100,
   "id": "danish-disclosure",
   "metadata": {},
   "outputs": [
    {
     "data": {
      "text/plain": [
       "['pragati',\n",
       " 'gurjeet',\n",
       " 'anshuman',\n",
       " 'srinivas',\n",
       " 'srinivas',\n",
       " 'sandeep',\n",
       " 'hitendra']"
      ]
     },
     "execution_count": 100,
     "metadata": {},
     "output_type": "execute_result"
    }
   ],
   "source": [
    "my_list "
   ]
  },
  {
   "cell_type": "code",
   "execution_count": 101,
   "id": "qualified-academy",
   "metadata": {},
   "outputs": [],
   "source": [
    "my_list[0], my_list[1], my_list[2] = 3121, 3119, 2887"
   ]
  },
  {
   "cell_type": "code",
   "execution_count": 102,
   "id": "joined-simon",
   "metadata": {},
   "outputs": [
    {
     "data": {
      "text/plain": [
       "[3121, 3119, 2887, 'srinivas', 'srinivas', 'sandeep', 'hitendra']"
      ]
     },
     "execution_count": 102,
     "metadata": {},
     "output_type": "execute_result"
    }
   ],
   "source": [
    "my_list"
   ]
  },
  {
   "cell_type": "code",
   "execution_count": 103,
   "id": "greatest-harassment",
   "metadata": {},
   "outputs": [],
   "source": [
    "my_list.append(True)"
   ]
  },
  {
   "cell_type": "code",
   "execution_count": 104,
   "id": "correct-kazakhstan",
   "metadata": {},
   "outputs": [
    {
     "data": {
      "text/plain": [
       "[3121, 3119, 2887, 'srinivas', 'srinivas', 'sandeep', 'hitendra', True]"
      ]
     },
     "execution_count": 104,
     "metadata": {},
     "output_type": "execute_result"
    }
   ],
   "source": [
    "my_list"
   ]
  },
  {
   "cell_type": "code",
   "execution_count": 1,
   "id": "advanced-grain",
   "metadata": {},
   "outputs": [],
   "source": [
    "#day 2"
   ]
  },
  {
   "cell_type": "code",
   "execution_count": 2,
   "id": "smart-encyclopedia",
   "metadata": {},
   "outputs": [],
   "source": [
    "# tuples\n",
    "# its a collection/sequence data type\n",
    "# homogenous\n",
    "# immutable\n",
    "# ()\n",
    "\n",
    "\n",
    "my_tuple = ('abc', 1, 1.1, True)"
   ]
  },
  {
   "cell_type": "code",
   "execution_count": 4,
   "id": "international-belfast",
   "metadata": {},
   "outputs": [
    {
     "data": {
      "text/plain": [
       "tuple"
      ]
     },
     "execution_count": 4,
     "metadata": {},
     "output_type": "execute_result"
    }
   ],
   "source": [
    "type(my_tuple)"
   ]
  },
  {
   "cell_type": "code",
   "execution_count": 7,
   "id": "proud-fitting",
   "metadata": {},
   "outputs": [],
   "source": [
    "def any_func(*args):\n",
    "    print(*args)"
   ]
  },
  {
   "cell_type": "code",
   "execution_count": 6,
   "id": "affected-house",
   "metadata": {},
   "outputs": [
    {
     "name": "stdout",
     "output_type": "stream",
     "text": [
      "34 45 66\n"
     ]
    }
   ],
   "source": [
    "any_func(34,45,66)"
   ]
  },
  {
   "cell_type": "code",
   "execution_count": 8,
   "id": "running-contest",
   "metadata": {},
   "outputs": [
    {
     "data": {
      "text/plain": [
       "('abc', 1, 1.1, True)"
      ]
     },
     "execution_count": 8,
     "metadata": {},
     "output_type": "execute_result"
    }
   ],
   "source": [
    "my_tuple\n",
    "# 1232322"
   ]
  },
  {
   "cell_type": "code",
   "execution_count": 11,
   "id": "thick-colorado",
   "metadata": {},
   "outputs": [
    {
     "name": "stdout",
     "output_type": "stream",
     "text": [
      "0 is the index of my value  abc\n",
      "1 is the index of my value  1\n",
      "2 is the index of my value  1.1\n",
      "3 is the index of my value  True\n"
     ]
    }
   ],
   "source": [
    "for i, v in enumerate(my_tuple):\n",
    "    print(i, \"is the index of my value \", v)"
   ]
  },
  {
   "cell_type": "code",
   "execution_count": 12,
   "id": "ordered-partner",
   "metadata": {},
   "outputs": [
    {
     "name": "stdout",
     "output_type": "stream",
     "text": [
      "yes its there\n"
     ]
    }
   ],
   "source": [
    "if 1.1 in my_tuple:\n",
    "    print(\"yes its there\")"
   ]
  },
  {
   "cell_type": "code",
   "execution_count": 37,
   "id": "allied-history",
   "metadata": {},
   "outputs": [
    {
     "data": {
      "text/plain": [
       "1"
      ]
     },
     "execution_count": 37,
     "metadata": {},
     "output_type": "execute_result"
    }
   ],
   "source": [
    "my_tuple.count(1.1)"
   ]
  },
  {
   "cell_type": "code",
   "execution_count": 36,
   "id": "southwest-stylus",
   "metadata": {},
   "outputs": [
    {
     "data": {
      "text/plain": [
       "1"
      ]
     },
     "execution_count": 36,
     "metadata": {},
     "output_type": "execute_result"
    }
   ],
   "source": [
    "my_list = list(my_tuple)\n",
    "my_list.count(1.1)\n"
   ]
  },
  {
   "cell_type": "code",
   "execution_count": 19,
   "id": "hungry-florist",
   "metadata": {},
   "outputs": [
    {
     "data": {
      "text/plain": [
       "('abc', 1, 1.1, True)"
      ]
     },
     "execution_count": 19,
     "metadata": {},
     "output_type": "execute_result"
    }
   ],
   "source": [
    "my_tuple"
   ]
  },
  {
   "cell_type": "code",
   "execution_count": 31,
   "id": "aging-rochester",
   "metadata": {},
   "outputs": [],
   "source": [
    "my_another_tuple = (2,)"
   ]
  },
  {
   "cell_type": "code",
   "execution_count": 32,
   "id": "shared-variance",
   "metadata": {},
   "outputs": [
    {
     "data": {
      "text/plain": [
       "tuple"
      ]
     },
     "execution_count": 32,
     "metadata": {},
     "output_type": "execute_result"
    }
   ],
   "source": [
    "type(my_another_tuple)"
   ]
  },
  {
   "cell_type": "code",
   "execution_count": 33,
   "id": "equipped-twins",
   "metadata": {},
   "outputs": [
    {
     "data": {
      "text/plain": [
       "True"
      ]
     },
     "execution_count": 33,
     "metadata": {},
     "output_type": "execute_result"
    }
   ],
   "source": [
    "# in python single quotes and double quotes are the same thing\n",
    "abc = \"Pragati\"\n",
    "bbc = 'Pragati'\n",
    "abc == bbc"
   ]
  },
  {
   "cell_type": "code",
   "execution_count": 34,
   "id": "crude-borough",
   "metadata": {},
   "outputs": [],
   "source": [
    "my_tuple = my_tuple + my_another_tuple"
   ]
  },
  {
   "cell_type": "code",
   "execution_count": 35,
   "id": "prostate-church",
   "metadata": {},
   "outputs": [
    {
     "data": {
      "text/plain": [
       "('abc', 1, 1.1, True, 2)"
      ]
     },
     "execution_count": 35,
     "metadata": {},
     "output_type": "execute_result"
    }
   ],
   "source": [
    "my_tuple"
   ]
  },
  {
   "cell_type": "code",
   "execution_count": 87,
   "id": "automatic-crash",
   "metadata": {},
   "outputs": [],
   "source": [
    "# dictionaries\n",
    "# As of Python version 3.7, dictionaries are ordered. In Python 3.6 and earlier, dictionaries are unordered.\n",
    "# key value pair\n",
    "\n",
    "\n",
    "car =  {\n",
    "            'model': 'Mustang',\n",
    "            'year': 1969,\n",
    "            'cc': 5500.41,\n",
    "            'Is_passed':True\n",
    "        }"
   ]
  },
  {
   "cell_type": "code",
   "execution_count": 88,
   "id": "dominican-artwork",
   "metadata": {},
   "outputs": [
    {
     "data": {
      "text/plain": [
       "{'model': 'Mustang', 'year': 1969, 'cc': 5500.41, 'Is_passed': True}"
      ]
     },
     "execution_count": 88,
     "metadata": {},
     "output_type": "execute_result"
    }
   ],
   "source": [
    "car"
   ]
  },
  {
   "cell_type": "code",
   "execution_count": 89,
   "id": "rapid-olympus",
   "metadata": {},
   "outputs": [
    {
     "name": "stdout",
     "output_type": "stream",
     "text": [
      "['model', 'year', 'cc', 'Is_passed']\n",
      "['Mustang', 1969, 5500.41, True]\n",
      "[('model', 'Mustang'), ('year', 1969), ('cc', 5500.41), ('Is_passed', True)]\n"
     ]
    },
    {
     "data": {
      "text/plain": [
       "{'model': 'Mustang',\n",
       " 'year': 1969,\n",
       " 'cc': 5500.41,\n",
       " 'Is_passed': True,\n",
       " 'type': 'Petrol',\n",
       " 'company': 'ford',\n",
       " 'color': 'orange'}"
      ]
     },
     "execution_count": 89,
     "metadata": {},
     "output_type": "execute_result"
    }
   ],
   "source": [
    "# dictionary methods\n",
    "# keys()\n",
    "print(list(car.keys()))\n",
    "\n",
    "# values()\n",
    "print(list(car.values()))\n",
    "\n",
    "# items()\n",
    "print(list(car.items()))\n",
    "# zip\n",
    "\n",
    "# update\n",
    "\n",
    "# sample_dict['city_state'] = \"hr\"  \t\t# way 1\n",
    "# sample_dict.update({'city_state':\"hr\"})   \t\t\t# way 2\n",
    "# sample_dict = {**sample_dict,  **{'city_state':\"hr\"}}\t\t# way 3\n",
    "# sample_dict |= {'city_state':\"hr\"} \t\t\t\t# way 4\n",
    "# sample_dict = sample_dict|{'city_state':\"hr\"}\t\t\t# way 5\n",
    "\n",
    "car['type'] = 'Petrol'\n",
    "car\n",
    "\n",
    "car_company = {\"company\": \"ford\"}\n",
    "car.update(car_company)\n",
    "\n",
    "\n",
    "car_color = {\"color\":\"orange\"}\n",
    "car = {**car, **car_color}\n",
    "car\n",
    "# get()\n",
    "\n"
   ]
  },
  {
   "cell_type": "code",
   "execution_count": null,
   "id": "strategic-citizenship",
   "metadata": {},
   "outputs": [],
   "source": []
  }
 ],
 "metadata": {
  "kernelspec": {
   "display_name": "Python 3",
   "language": "python",
   "name": "python3"
  },
  "language_info": {
   "codemirror_mode": {
    "name": "ipython",
    "version": 3
   },
   "file_extension": ".py",
   "mimetype": "text/x-python",
   "name": "python",
   "nbconvert_exporter": "python",
   "pygments_lexer": "ipython3",
   "version": "3.9.1"
  }
 },
 "nbformat": 4,
 "nbformat_minor": 5
}
